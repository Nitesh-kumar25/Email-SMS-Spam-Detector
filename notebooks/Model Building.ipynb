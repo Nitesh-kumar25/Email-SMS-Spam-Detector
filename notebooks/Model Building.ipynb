{
 "cells": [
  {
   "cell_type": "code",
   "execution_count": 1,
   "id": "d0bcd6d1",
   "metadata": {},
   "outputs": [],
   "source": [
    "import pandas as pd\n",
    "import numpy as np"
   ]
  },
  {
   "cell_type": "code",
   "execution_count": 2,
   "id": "4f30d5a3",
   "metadata": {},
   "outputs": [],
   "source": [
    "df=pd.read_csv('spam_data.csv',)"
   ]
  },
  {
   "cell_type": "code",
   "execution_count": 3,
   "id": "d46b321f",
   "metadata": {},
   "outputs": [],
   "source": [
    "df.drop(columns=['Unnamed: 0'],inplace=True)"
   ]
  },
  {
   "cell_type": "code",
   "execution_count": 4,
   "id": "ddd9b003",
   "metadata": {},
   "outputs": [],
   "source": [
    "df.dropna(inplace=True)"
   ]
  },
  {
   "cell_type": "code",
   "execution_count": 5,
   "id": "5ed57dc9",
   "metadata": {},
   "outputs": [
    {
     "data": {
      "text/plain": [
       "(5160, 6)"
      ]
     },
     "execution_count": 5,
     "metadata": {},
     "output_type": "execute_result"
    }
   ],
   "source": [
    "df.shape"
   ]
  },
  {
   "cell_type": "code",
   "execution_count": 57,
   "id": "bdf2fcce",
   "metadata": {},
   "outputs": [],
   "source": [
    "#Vectorization (Bag of Words/tfidf)\n",
    "from sklearn.feature_extraction.text import CountVectorizer, TfidfVectorizer\n",
    "#cv=CountVectorizer()\n",
    "tfidf=TfidfVectorizer(max_features=3000)\n",
    "x=tfidf.fit_transform(df['transformed_text']).toarray()"
   ]
  },
  {
   "cell_type": "code",
   "execution_count": 58,
   "id": "6adf7445",
   "metadata": {},
   "outputs": [
    {
     "data": {
      "text/plain": [
       "array([[0., 0., 0., ..., 0., 0., 0.],\n",
       "       [0., 0., 0., ..., 0., 0., 0.],\n",
       "       [0., 0., 0., ..., 0., 0., 0.],\n",
       "       ...,\n",
       "       [0., 0., 0., ..., 0., 0., 0.],\n",
       "       [0., 0., 0., ..., 0., 0., 0.],\n",
       "       [0., 0., 0., ..., 0., 0., 0.]])"
      ]
     },
     "execution_count": 58,
     "metadata": {},
     "output_type": "execute_result"
    }
   ],
   "source": [
    "x"
   ]
  },
  {
   "cell_type": "code",
   "execution_count": 59,
   "id": "9e4e7f48",
   "metadata": {},
   "outputs": [
    {
     "data": {
      "text/plain": [
       "(5160, 3000)"
      ]
     },
     "execution_count": 59,
     "metadata": {},
     "output_type": "execute_result"
    }
   ],
   "source": [
    "x.shape"
   ]
  },
  {
   "cell_type": "code",
   "execution_count": 60,
   "id": "0885e359",
   "metadata": {},
   "outputs": [],
   "source": [
    "y=df['target']"
   ]
  },
  {
   "cell_type": "code",
   "execution_count": 61,
   "id": "c0ee98c3",
   "metadata": {},
   "outputs": [],
   "source": [
    "from sklearn.model_selection import train_test_split"
   ]
  },
  {
   "cell_type": "code",
   "execution_count": 62,
   "id": "5070b337",
   "metadata": {},
   "outputs": [],
   "source": [
    "x_train,x_test,y_train,y_test = train_test_split(x,y,test_size=0.2,random_state=2)"
   ]
  },
  {
   "cell_type": "code",
   "execution_count": 63,
   "id": "a39b2efb",
   "metadata": {},
   "outputs": [],
   "source": [
    "from sklearn.naive_bayes import GaussianNB, BernoulliNB, MultinomialNB\n",
    "from sklearn.metrics import accuracy_score, precision_score, confusion_matrix"
   ]
  },
  {
   "cell_type": "code",
   "execution_count": 12,
   "id": "c00f364f",
   "metadata": {},
   "outputs": [
    {
     "name": "stdout",
     "output_type": "stream",
     "text": [
      "0.876937984496124\n",
      "[[800 106]\n",
      " [ 21 105]]\n",
      "0.4976303317535545\n"
     ]
    }
   ],
   "source": [
    "gnb=GaussianNB()\n",
    "gnb.fit(x_train,y_train)\n",
    "y_pred=gnb.predict(x_test)\n",
    "print(accuracy_score(y_test,y_pred))\n",
    "print(confusion_matrix(y_test,y_pred))\n",
    "print(precision_score(y_test,y_pred))"
   ]
  },
  {
   "cell_type": "code",
   "execution_count": 13,
   "id": "b5b6bb26",
   "metadata": {},
   "outputs": [
    {
     "name": "stdout",
     "output_type": "stream",
     "text": [
      "0.9718992248062015\n",
      "[[904   2]\n",
      " [ 27  99]]\n",
      "0.9801980198019802\n"
     ]
    }
   ],
   "source": [
    "bnb=BernoulliNB()\n",
    "bnb.fit(x_train,y_train)\n",
    "y_pred1=bnb.predict(x_test)\n",
    "print(accuracy_score(y_test,y_pred1))\n",
    "print(confusion_matrix(y_test,y_pred1))\n",
    "print(precision_score(y_test,y_pred1))"
   ]
  },
  {
   "cell_type": "code",
   "execution_count": 64,
   "id": "ee1214a3",
   "metadata": {},
   "outputs": [
    {
     "name": "stdout",
     "output_type": "stream",
     "text": [
      "0.9748062015503876\n",
      "[[906   0]\n",
      " [ 26 100]]\n",
      "1.0\n"
     ]
    }
   ],
   "source": [
    "mnb=MultinomialNB()\n",
    "mnb.fit(x_train,y_train)\n",
    "y_pred2=mnb.predict(x_test)\n",
    "print(accuracy_score(y_test,y_pred2))\n",
    "print(confusion_matrix(y_test,y_pred2))\n",
    "print(precision_score(y_test,y_pred2))"
   ]
  },
  {
   "cell_type": "code",
   "execution_count": 15,
   "id": "5b15f897",
   "metadata": {},
   "outputs": [],
   "source": [
    "# getting best results in mnb"
   ]
  },
  {
   "cell_type": "code",
   "execution_count": 16,
   "id": "ca01182c",
   "metadata": {},
   "outputs": [],
   "source": [
    "#Trying other algorithms also"
   ]
  },
  {
   "cell_type": "code",
   "execution_count": 17,
   "id": "0f8ec0d3",
   "metadata": {},
   "outputs": [],
   "source": [
    "from sklearn.linear_model import LogisticRegression\n",
    "from sklearn.svm import SVC\n",
    "from sklearn.neighbors import KNeighborsClassifier\n",
    "from sklearn.naive_bayes import BernoulliNB\n",
    "from sklearn.tree import DecisionTreeClassifier\n",
    "from sklearn.ensemble import AdaBoostClassifier\n",
    "from sklearn.ensemble import ExtraTreesClassifier\n",
    "from sklearn.ensemble import RandomForestClassifier\n",
    "from sklearn.ensemble import BaggingClassifier\n",
    "from sklearn.ensemble import GradientBoostingClassifier"
   ]
  },
  {
   "cell_type": "code",
   "execution_count": 43,
   "id": "1e8d26b6",
   "metadata": {},
   "outputs": [],
   "source": [
    "svc = SVC(kernel='sigmoid',gamma=1.0,probability=True)\n",
    "knc = KNeighborsClassifier()\n",
    "mnb = MultinomialNB()\n",
    "#dtc = DecisionTreeClassifier(max_depth=5)\n",
    "#lrc = LogisticRegression(penalty='l1',solver='liblinear')\n",
    "rfc = RandomForestClassifier(n_estimators=50, random_state=2)\n",
    "#abc = AdaBoostClassifier(n_estimators=50, random_state=2)\n",
    "etc = ExtraTreesClassifier(n_estimators=50, random_state=2)\n",
    "#bgc = BaggingClassifier(n_estimators=50, random_state=2)\n",
    "#gbc = GradientBoostingClassifier(n_estimators=50, random_state=2)"
   ]
  },
  {
   "cell_type": "code",
   "execution_count": 19,
   "id": "2ec1e412",
   "metadata": {},
   "outputs": [],
   "source": [
    "clfs = {'SVC':svc,'KNC':knc,'NB':mnb,'RFC':rfc,'ETC':etc,}"
   ]
  },
  {
   "cell_type": "code",
   "execution_count": 20,
   "id": "afaea053",
   "metadata": {},
   "outputs": [],
   "source": [
    "def training_classifiers(clf,x_train,x_test,y_train,y_test):\n",
    "    clf.fit(x_train,y_train)\n",
    "    y_pred=clf.predict(x_test)\n",
    "    accuracy = accuracy_score(y_test,y_pred)\n",
    "    precision = precision_score(y_test,y_pred)\n",
    "    \n",
    "    return accuracy,precision"
   ]
  },
  {
   "cell_type": "code",
   "execution_count": 21,
   "id": "f46011da",
   "metadata": {},
   "outputs": [],
   "source": [
    "accuracy_scores=[]\n",
    "precision_scores=[]\n",
    "\n",
    "for name,clf in clfs.items():\n",
    "    current_accuracy,current_precision=training_classifiers(clf,x_train,x_test,y_train,y_test)\n",
    "    accuracy_scores.append(current_accuracy)\n",
    "    precision_scores.append(current_precision)"
   ]
  },
  {
   "cell_type": "code",
   "execution_count": 22,
   "id": "5b83c9b5",
   "metadata": {},
   "outputs": [],
   "source": [
    "performance_df = pd.DataFrame({'Algorithm name':clfs.keys(),'Accuracy':accuracy_scores,'Precision':precision_scores},).sort_values('Precision',ascending=False)\n"
   ]
  },
  {
   "cell_type": "code",
   "execution_count": 23,
   "id": "041a48ea",
   "metadata": {},
   "outputs": [
    {
     "data": {
      "text/html": [
       "<div>\n",
       "<style scoped>\n",
       "    .dataframe tbody tr th:only-of-type {\n",
       "        vertical-align: middle;\n",
       "    }\n",
       "\n",
       "    .dataframe tbody tr th {\n",
       "        vertical-align: top;\n",
       "    }\n",
       "\n",
       "    .dataframe thead th {\n",
       "        text-align: right;\n",
       "    }\n",
       "</style>\n",
       "<table border=\"1\" class=\"dataframe\">\n",
       "  <thead>\n",
       "    <tr style=\"text-align: right;\">\n",
       "      <th></th>\n",
       "      <th>Algorithm name</th>\n",
       "      <th>Accuracy</th>\n",
       "      <th>Precision</th>\n",
       "    </tr>\n",
       "  </thead>\n",
       "  <tbody>\n",
       "    <tr>\n",
       "      <th>1</th>\n",
       "      <td>KNC</td>\n",
       "      <td>0.912791</td>\n",
       "      <td>1.000000</td>\n",
       "    </tr>\n",
       "    <tr>\n",
       "      <th>2</th>\n",
       "      <td>NB</td>\n",
       "      <td>0.959302</td>\n",
       "      <td>1.000000</td>\n",
       "    </tr>\n",
       "    <tr>\n",
       "      <th>3</th>\n",
       "      <td>RFC</td>\n",
       "      <td>0.966085</td>\n",
       "      <td>1.000000</td>\n",
       "    </tr>\n",
       "    <tr>\n",
       "      <th>4</th>\n",
       "      <td>ETC</td>\n",
       "      <td>0.971899</td>\n",
       "      <td>0.980198</td>\n",
       "    </tr>\n",
       "    <tr>\n",
       "      <th>0</th>\n",
       "      <td>SVC</td>\n",
       "      <td>0.970930</td>\n",
       "      <td>0.980000</td>\n",
       "    </tr>\n",
       "  </tbody>\n",
       "</table>\n",
       "</div>"
      ],
      "text/plain": [
       "  Algorithm name  Accuracy  Precision\n",
       "1            KNC  0.912791   1.000000\n",
       "2             NB  0.959302   1.000000\n",
       "3            RFC  0.966085   1.000000\n",
       "4            ETC  0.971899   0.980198\n",
       "0            SVC  0.970930   0.980000"
      ]
     },
     "execution_count": 23,
     "metadata": {},
     "output_type": "execute_result"
    }
   ],
   "source": [
    "performance_df"
   ]
  },
  {
   "cell_type": "code",
   "execution_count": 24,
   "id": "dbcbd351",
   "metadata": {},
   "outputs": [],
   "source": [
    "# improvement"
   ]
  },
  {
   "cell_type": "code",
   "execution_count": 25,
   "id": "41fd47ea",
   "metadata": {},
   "outputs": [],
   "source": [
    "# 1. --> Adding no. of features in vectorization\n",
    "tfidf=TfidfVectorizer(max_features=3000)\n",
    "x=tfidf.fit_transform(df['transformed_text']).toarray()"
   ]
  },
  {
   "cell_type": "code",
   "execution_count": 26,
   "id": "2345f5bf",
   "metadata": {},
   "outputs": [],
   "source": [
    "x_train,x_test,y_train,y_test = train_test_split(x,y,test_size=0.2,random_state=2)"
   ]
  },
  {
   "cell_type": "code",
   "execution_count": 27,
   "id": "7128e8c9",
   "metadata": {},
   "outputs": [],
   "source": [
    "accuracy_scores=[]\n",
    "precision_scores=[]\n",
    "\n",
    "for name,clf in clfs.items():\n",
    "    current_accuracy,current_precision=training_classifiers(clf,x_train,x_test,y_train,y_test)\n",
    "    accuracy_scores.append(current_accuracy)\n",
    "    precision_scores.append(current_precision)"
   ]
  },
  {
   "cell_type": "code",
   "execution_count": 28,
   "id": "c1804492",
   "metadata": {},
   "outputs": [],
   "source": [
    "temp_df = pd.DataFrame({\"Algorithm name\":clfs.keys(),\"accuracy_3000\":accuracy_scores,'precision_3000':precision_scores})"
   ]
  },
  {
   "cell_type": "code",
   "execution_count": 29,
   "id": "784d7414",
   "metadata": {},
   "outputs": [],
   "source": [
    "performance_df=performance_df.merge(temp_df,on = 'Algorithm name')"
   ]
  },
  {
   "cell_type": "code",
   "execution_count": 30,
   "id": "1cf813ee",
   "metadata": {},
   "outputs": [
    {
     "data": {
      "text/html": [
       "<div>\n",
       "<style scoped>\n",
       "    .dataframe tbody tr th:only-of-type {\n",
       "        vertical-align: middle;\n",
       "    }\n",
       "\n",
       "    .dataframe tbody tr th {\n",
       "        vertical-align: top;\n",
       "    }\n",
       "\n",
       "    .dataframe thead th {\n",
       "        text-align: right;\n",
       "    }\n",
       "</style>\n",
       "<table border=\"1\" class=\"dataframe\">\n",
       "  <thead>\n",
       "    <tr style=\"text-align: right;\">\n",
       "      <th></th>\n",
       "      <th>Algorithm name</th>\n",
       "      <th>Accuracy</th>\n",
       "      <th>Precision</th>\n",
       "      <th>accuracy_3000</th>\n",
       "      <th>precision_3000</th>\n",
       "    </tr>\n",
       "  </thead>\n",
       "  <tbody>\n",
       "    <tr>\n",
       "      <th>0</th>\n",
       "      <td>KNC</td>\n",
       "      <td>0.912791</td>\n",
       "      <td>1.000000</td>\n",
       "      <td>0.922481</td>\n",
       "      <td>1.000000</td>\n",
       "    </tr>\n",
       "    <tr>\n",
       "      <th>1</th>\n",
       "      <td>NB</td>\n",
       "      <td>0.959302</td>\n",
       "      <td>1.000000</td>\n",
       "      <td>0.974806</td>\n",
       "      <td>1.000000</td>\n",
       "    </tr>\n",
       "    <tr>\n",
       "      <th>2</th>\n",
       "      <td>RFC</td>\n",
       "      <td>0.966085</td>\n",
       "      <td>1.000000</td>\n",
       "      <td>0.969961</td>\n",
       "      <td>0.970297</td>\n",
       "    </tr>\n",
       "    <tr>\n",
       "      <th>3</th>\n",
       "      <td>ETC</td>\n",
       "      <td>0.971899</td>\n",
       "      <td>0.980198</td>\n",
       "      <td>0.972868</td>\n",
       "      <td>0.990000</td>\n",
       "    </tr>\n",
       "    <tr>\n",
       "      <th>4</th>\n",
       "      <td>SVC</td>\n",
       "      <td>0.970930</td>\n",
       "      <td>0.980000</td>\n",
       "      <td>0.973837</td>\n",
       "      <td>0.980583</td>\n",
       "    </tr>\n",
       "  </tbody>\n",
       "</table>\n",
       "</div>"
      ],
      "text/plain": [
       "  Algorithm name  Accuracy  Precision  accuracy_3000  precision_3000\n",
       "0            KNC  0.912791   1.000000       0.922481        1.000000\n",
       "1             NB  0.959302   1.000000       0.974806        1.000000\n",
       "2            RFC  0.966085   1.000000       0.969961        0.970297\n",
       "3            ETC  0.971899   0.980198       0.972868        0.990000\n",
       "4            SVC  0.970930   0.980000       0.973837        0.980583"
      ]
     },
     "execution_count": 30,
     "metadata": {},
     "output_type": "execute_result"
    }
   ],
   "source": [
    "performance_df"
   ]
  },
  {
   "cell_type": "code",
   "execution_count": 31,
   "id": "1fe6770b",
   "metadata": {},
   "outputs": [],
   "source": [
    "#accuracy of NB increased from 95 to 97"
   ]
  },
  {
   "cell_type": "code",
   "execution_count": 32,
   "id": "7fe5ba33",
   "metadata": {},
   "outputs": [],
   "source": [
    "# 2.--> Apply scaling(Use MinMax scaler to avoid negative values)"
   ]
  },
  {
   "cell_type": "code",
   "execution_count": 33,
   "id": "1fbcd2e4",
   "metadata": {},
   "outputs": [
    {
     "data": {
      "text/plain": [
       "\"tfidf=TfidfVectorizer(max_features=3000)\\nx=tfidf.fit_transform(df['transformed_text']).toarray()\\nfrom sklearn.preprocessing import MinMaxScaler\\nms = MinMaxScaler()\\nx=ms.fit_transform(x)\""
      ]
     },
     "execution_count": 33,
     "metadata": {},
     "output_type": "execute_result"
    }
   ],
   "source": [
    "'''tfidf=TfidfVectorizer(max_features=3000)\n",
    "x=tfidf.fit_transform(df['transformed_text']).toarray()\n",
    "from sklearn.preprocessing import MinMaxScaler\n",
    "ms = MinMaxScaler()\n",
    "x=ms.fit_transform(x)'''"
   ]
  },
  {
   "cell_type": "code",
   "execution_count": 34,
   "id": "b6b901f3",
   "metadata": {},
   "outputs": [],
   "source": [
    "#x_train,x_test,y_train,y_test = train_test_split(x,y,test_size=0.2,random_state=2)"
   ]
  },
  {
   "cell_type": "code",
   "execution_count": 35,
   "id": "744c7f75",
   "metadata": {},
   "outputs": [
    {
     "data": {
      "text/plain": [
       "'accuracy_scores=[]\\nprecision_scores=[]\\n\\nfor name,clf in clfs.items():\\n    current_accuracy,current_precision=training_classifiers(clf,x_train,x_test,y_train,y_test)\\n    accuracy_scores.append(current_accuracy)\\n    precision_scores.append(current_precision)'"
      ]
     },
     "execution_count": 35,
     "metadata": {},
     "output_type": "execute_result"
    }
   ],
   "source": [
    "'''accuracy_scores=[]\n",
    "precision_scores=[]\n",
    "\n",
    "for name,clf in clfs.items():\n",
    "    current_accuracy,current_precision=training_classifiers(clf,x_train,x_test,y_train,y_test)\n",
    "    accuracy_scores.append(current_accuracy)\n",
    "    precision_scores.append(current_precision)'''"
   ]
  },
  {
   "cell_type": "code",
   "execution_count": 36,
   "id": "e6631dec",
   "metadata": {},
   "outputs": [],
   "source": [
    "#temp_df2 = pd.DataFrame({\"Algorithm name\":clfs.keys(),\"accuracy_on_scaling\":accuracy_scores,'precision_on_scaling':precision_scores})"
   ]
  },
  {
   "cell_type": "code",
   "execution_count": 37,
   "id": "960c49d3",
   "metadata": {},
   "outputs": [],
   "source": [
    "#performance_df=performance_df.merge(temp_df2,on='Algorithm name')"
   ]
  },
  {
   "cell_type": "code",
   "execution_count": 38,
   "id": "7899d4cb",
   "metadata": {},
   "outputs": [],
   "source": [
    "#performance_df  #Performance of model reduced"
   ]
  },
  {
   "cell_type": "code",
   "execution_count": 39,
   "id": "16223419",
   "metadata": {},
   "outputs": [],
   "source": [
    "#We are getting best results with NB, ETC and SVC with max_features=3000"
   ]
  },
  {
   "cell_type": "code",
   "execution_count": 48,
   "id": "1f03e125",
   "metadata": {},
   "outputs": [],
   "source": [
    "# Naive bayes is giving Best results of all"
   ]
  },
  {
   "cell_type": "code",
   "execution_count": 49,
   "id": "84431f80",
   "metadata": {},
   "outputs": [],
   "source": [
    "import pickle"
   ]
  },
  {
   "cell_type": "code",
   "execution_count": 53,
   "id": "3b117dee",
   "metadata": {},
   "outputs": [],
   "source": [
    "pickle.dump(tfidf,open('vectorizer.pkl','wb'))"
   ]
  },
  {
   "cell_type": "code",
   "execution_count": 65,
   "id": "5dff1ced",
   "metadata": {},
   "outputs": [],
   "source": [
    "pickle.dump(mnb,open('model.pkl','wb'))"
   ]
  },
  {
   "cell_type": "code",
   "execution_count": null,
   "id": "26c79a97",
   "metadata": {},
   "outputs": [],
   "source": []
  }
 ],
 "metadata": {
  "kernelspec": {
   "display_name": "Python 3 (ipykernel)",
   "language": "python",
   "name": "python3"
  },
  "language_info": {
   "codemirror_mode": {
    "name": "ipython",
    "version": 3
   },
   "file_extension": ".py",
   "mimetype": "text/x-python",
   "name": "python",
   "nbconvert_exporter": "python",
   "pygments_lexer": "ipython3",
   "version": "3.11.4"
  }
 },
 "nbformat": 4,
 "nbformat_minor": 5
}
